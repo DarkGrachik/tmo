{
 "cells": [
  {
   "cell_type": "code",
   "execution_count": null,
   "id": "0b780039-d784-4518-a684-865223d985a1",
   "metadata": {},
   "outputs": [],
   "source": []
  }
 ],
 "metadata": {
  "kernelspec": {
   "display_name": "",
   "name": ""
  },
  "language_info": {
   "name": ""
  }
 },
 "nbformat": 4,
 "nbformat_minor": 5
}
